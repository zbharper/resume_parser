{
 "cells": [
  {
   "cell_type": "code",
   "execution_count": null,
   "id": "bd8b9542",
   "metadata": {},
   "outputs": [],
   "source": [
    "from resume_parser import ResumeParser\n",
    "\n",
    "parser = ResumeParser()\n",
    "pdf_file = '/home/deepctrl/test/resume/【CV算法工程师 _ 北京25-45K】孙艾霞 3年.pdf'\n",
    "\n",
    "text_list = parser.reader.read(pdf_file)\n",
    "segments = parser.segment(text_list)\n"
   ]
  },
  {
   "cell_type": "code",
   "execution_count": null,
   "id": "77dacb95",
   "metadata": {},
   "outputs": [],
   "source": [
    "resume = parser.parse(pdf_file)"
   ]
  },
  {
   "cell_type": "code",
   "execution_count": null,
   "id": "aa204021",
   "metadata": {},
   "outputs": [],
   "source": [
    "resume.school"
   ]
  },
  {
   "cell_type": "code",
   "execution_count": null,
   "id": "60b4da74",
   "metadata": {},
   "outputs": [],
   "source": [
    "segments['project_segment']"
   ]
  },
  {
   "cell_type": "code",
   "execution_count": null,
   "id": "c2473b16",
   "metadata": {},
   "outputs": [],
   "source": [
    "from helpers import Exp_Decode, Exp_Extract\n",
    "edu_decode = Exp_Decode()\n",
    "edu_exp = edu_decode.descrip_extract(segments['project_segment'])\n",
    "for info in edu_exp:\n",
    "    print('info: ', info)"
   ]
  },
  {
   "cell_type": "code",
   "execution_count": null,
   "id": "0baa6cef",
   "metadata": {},
   "outputs": [],
   "source": [
    "edu_exp"
   ]
  },
  {
   "cell_type": "code",
   "execution_count": null,
   "id": "2ba5c381",
   "metadata": {},
   "outputs": [],
   "source": [
    "import hanlp\n",
    "exp_parser = Exp_Extract(hanlp.load(hanlp.pretrained.ner.MSRA_NER_ELECTRA_SMALL_ZH))\n",
    "\n",
    "edu_info = exp_parser.correct_eduinfo(edu_exp)\n",
    "print(edu_info)"
   ]
  },
  {
   "cell_type": "code",
   "execution_count": null,
   "id": "e00c1fe4",
   "metadata": {},
   "outputs": [],
   "source": [
    "from pdfminer.pdfparser import PDFParser\n",
    "from pdfminer.pdfdocument import PDFDocument\n",
    "from pdfminer.pdfpage import PDFPage\n",
    "from pdfminer.pdfpage import PDFTextExtractionNotAllowed\n",
    "from pdfminer.pdfinterp import PDFResourceManager\n",
    "from pdfminer.pdfinterp import PDFPageInterpreter\n",
    "from pdfminer.pdfdevice import PDFDevice\n",
    "from pdfminer.layout import LAParams, LTTextBoxHorizontal, LTTextBox\n",
    "from pdfminer.converter import PDFPageAggregator\n",
    "from collections import defaultdict\n",
    "import pandas as pd\n",
    "\n",
    "def is_leftright(df):\n",
    "    if df[\"x0\"][df[\"x0\"]>190].count() > 20:\n",
    "        return True\n",
    "    else:\n",
    "        False\n",
    "        \n",
    "file_name = '/home/deepctrl/test/resume/【CV算法工程师 _ 北京25-45K】孙艾霞 3年.pdf'\n",
    "parser = PDFParser(open(file_name,'rb'))  # 用文件对象来创建一个pdf文档分析器，PDFParser从文件中提取数据\n",
    "document = PDFDocument(parser)  # 创建一个PDF文档 PDFDocument保存数据，存储文档数据结构到内存中 \n",
    "if not document.is_extractable:   # 检测文件是否提供txt转换，不提供就忽视\n",
    "    raise PDFTextExtractionNotAllowed\n",
    "rsrcmgr = PDFResourceManager()    # PDFResourceManager：pdf 共享资源管理器,用于存储共享资源，如字体或图像。\n",
    "device = PDFDevice(rsrcmgr)       # 把解析到的内容转化为你需要的东西\n",
    "\n",
    "# BEGIN LAYOUT ANALYSIS\n",
    "laparams = LAParams()     # 加入需要解析的参数   \n",
    "device = PDFPageAggregator(rsrcmgr, laparams=laparams)  # 创建一个PDF设备对象\n",
    "interpreter = PDFPageInterpreter(rsrcmgr, device)    # 创建一个PDF解释器对象，解析page内容\n",
    "page_number = len([page for page in PDFPage.create_pages(document)])  # 循环遍历列表，每次处理一个page的内容\n",
    "\n",
    "for page in PDFPage.create_pages(document):\n",
    "    print(page.mediabox)\n",
    "    page_dict =  defaultdict(list)\n",
    "    interpreter.process_page(page)\n",
    "    layout = device.get_result() \n",
    "    page_list = []\n",
    "    for lt_obj in layout:         # 遍历每一页的每一个元素     \n",
    "        if isinstance(lt_obj, LTTextBox):\n",
    "            line_num = len(lt_obj.get_text().strip('\\n').split('\\n'))\n",
    "            if line_num == 1:\n",
    "                page_dict[\"x0\"].append(lt_obj.bbox[0])\n",
    "                page_dict[\"y0\"].append(page.mediabox[3] - lt_obj.bbox[3])\n",
    "                page_dict[\"text\"].append(lt_obj.get_text().strip())\n",
    "            else:\n",
    "                line_height = (lt_obj.bbox[3]-lt_obj.bbox[1])/line_num\n",
    "#                 print(lt_obj.get_text(), line_height, lt_obj.bbox)\n",
    "                for idx, line in enumerate(lt_obj.get_text().strip('\\n').split('\\n')):\n",
    "                    page_dict['x0'].append(lt_obj.bbox[0])\n",
    "                    page_dict['y0'].append(page.mediabox[3] - lt_obj.bbox[3] + idx*line_height)\n",
    "                    page_dict['text'].append(line)\n",
    "    \n",
    "#     page_df = pd.DataFrame(page_dict)\n",
    "    page_df = pd.DataFrame(page_dict).sort_values(\"y0\", ascending=True)\n",
    "    print(page_df)\n",
    "#     print(page_df[\"x0\"][page_df[\"x0\"]>190].count())"
   ]
  },
  {
   "cell_type": "code",
   "execution_count": null,
   "id": "16cfa8cc",
   "metadata": {},
   "outputs": [],
   "source": [
    "for idx, page in enumerate(page_df.text):\n",
    "    print(idx, page)"
   ]
  },
  {
   "cell_type": "code",
   "execution_count": null,
   "id": "4d57e8c8",
   "metadata": {},
   "outputs": [],
   "source": [
    "info = parser.extractor.extract_all(text_list, segments)"
   ]
  },
  {
   "cell_type": "code",
   "execution_count": null,
   "id": "a9ae45f8",
   "metadata": {},
   "outputs": [],
   "source": [
    "info['campus_token']"
   ]
  },
  {
   "cell_type": "code",
   "execution_count": null,
   "id": "0a0c185d",
   "metadata": {},
   "outputs": [],
   "source": [
    "from helpers import Exp_Decode, Exp_Extract, extract_skill\n",
    "for text in segments[\"other_segment\"]:\n",
    "    print(extract_skill(text))"
   ]
  }
 ],
 "metadata": {
  "kernelspec": {
   "display_name": "Python [conda env:nlp]",
   "language": "python",
   "name": "conda-env-nlp-py"
  },
  "language_info": {
   "codemirror_mode": {
    "name": "ipython",
    "version": 3
   },
   "file_extension": ".py",
   "mimetype": "text/x-python",
   "name": "python",
   "nbconvert_exporter": "python",
   "pygments_lexer": "ipython3",
   "version": "3.8.16"
  }
 },
 "nbformat": 4,
 "nbformat_minor": 5
}
